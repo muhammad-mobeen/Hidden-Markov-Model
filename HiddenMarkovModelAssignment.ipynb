{
  "cells": [
    {
      "cell_type": "markdown",
      "metadata": {
        "colab_type": "text",
        "id": "view-in-github"
      },
      "source": [
        "<a href=\"https://colab.research.google.com/github/muhammad-mobeen/Hidden-Markov-Model/blob/main/HiddenMarkovModelAssignment.ipynb\" target=\"_parent\"><img src=\"https://colab.research.google.com/assets/colab-badge.svg\" alt=\"Open In Colab\"/></a>"
      ]
    },
    {
      "cell_type": "markdown",
      "metadata": {},
      "source": [
        "<h1 align=\"center\">Title: Implementing Hidden Markov Model in Python</h1>\n",
        "<p>Name: Muhammad Mobeen<br>\n",
        "Reg No: 200901097<br>\n",
        "BS-CS-01(B)<br>\n",
        "Big Data Aanalytics Assignment [10 June 2024]<br>\n",
        "Github URL: <a href=\"https://github.com/muhammad-mobeen/Hidden-Markov-Model\">github.com/muhammad-mobeen/Hidden-Markov-Model</a><br>\n",
        "Submitted to Mam Reeda Saeed</p>"
      ]
    },
    {
      "cell_type": "code",
      "execution_count": 1,
      "metadata": {
        "colab": {
          "base_uri": "https://localhost:8080/"
        },
        "id": "-aETspNv4OMj",
        "outputId": "38ea645b-104e-45d4-832d-8b43f641e48c"
      },
      "outputs": [
        {
          "name": "stdout",
          "output_type": "stream",
          "text": [
            "Requirement already satisfied: hmmlearn==0.2.6 in /usr/local/lib/python3.10/dist-packages (0.2.6)\n",
            "Requirement already satisfied: numpy>=1.10 in /usr/local/lib/python3.10/dist-packages (from hmmlearn==0.2.6) (1.25.2)\n",
            "Requirement already satisfied: scikit-learn>=0.16 in /usr/local/lib/python3.10/dist-packages (from hmmlearn==0.2.6) (1.2.2)\n",
            "Requirement already satisfied: scipy>=0.19 in /usr/local/lib/python3.10/dist-packages (from hmmlearn==0.2.6) (1.11.4)\n",
            "Requirement already satisfied: joblib>=1.1.1 in /usr/local/lib/python3.10/dist-packages (from scikit-learn>=0.16->hmmlearn==0.2.6) (1.4.2)\n",
            "Requirement already satisfied: threadpoolctl>=2.0.0 in /usr/local/lib/python3.10/dist-packages (from scikit-learn>=0.16->hmmlearn==0.2.6) (3.5.0)\n"
          ]
        }
      ],
      "source": [
        "!pip install hmmlearn==0.2.6"
      ]
    },
    {
      "cell_type": "code",
      "execution_count": 2,
      "metadata": {
        "_cell_guid": "b1076dfc-b9ad-4769-8c92-a6c4dae69d19",
        "_uuid": "8f2839f25d086af736a60e9eeb907d3b93b6e0e5",
        "execution": {
          "iopub.execute_input": "2021-10-20T21:46:45.980554Z",
          "iopub.status.busy": "2021-10-20T21:46:45.980052Z",
          "iopub.status.idle": "2021-10-20T21:46:46.593918Z",
          "shell.execute_reply": "2021-10-20T21:46:46.593196Z",
          "shell.execute_reply.started": "2021-10-20T21:46:45.980482Z"
        },
        "id": "ZfDzw8YP4JAX",
        "trusted": true
      },
      "outputs": [],
      "source": [
        "import numpy as np # linear algebra\n",
        "import pandas as pd # data processing, CSV file I/O (e.g. pd.read_csv)\n",
        "import seaborn as sns\n",
        "from tqdm import tqdm\n",
        "from matplotlib import pyplot as plt # show graph\n",
        "\n",
        "from sklearn.model_selection import GroupShuffleSplit\n",
        "from hmmlearn import hmm\n",
        "from sklearn.metrics import confusion_matrix, classification_report, accuracy_score, precision_score, recall_score, f1_score, roc_auc_score\n"
      ]
    },
    {
      "cell_type": "code",
      "execution_count": 3,
      "metadata": {
        "colab": {
          "base_uri": "https://localhost:8080/",
          "height": 206
        },
        "execution": {
          "iopub.execute_input": "2021-10-20T21:46:46.597658Z",
          "iopub.status.busy": "2021-10-20T21:46:46.597406Z",
          "iopub.status.idle": "2021-10-20T21:46:47.840632Z",
          "shell.execute_reply": "2021-10-20T21:46:47.839703Z",
          "shell.execute_reply.started": "2021-10-20T21:46:46.597626Z"
        },
        "id": "62geNmYT4JAZ",
        "outputId": "c0755bc2-79e8-499e-97e9-3736aecc976e",
        "trusted": true
      },
      "outputs": [
        {
          "data": {
            "application/vnd.google.colaboratory.intrinsic+json": {
              "type": "dataframe",
              "variable_name": "data"
            },
            "text/html": [
              "\n",
              "  <div id=\"df-d1b66029-ccf0-4dc8-876b-efc2728c3003\" class=\"colab-df-container\">\n",
              "    <div>\n",
              "<style scoped>\n",
              "    .dataframe tbody tr th:only-of-type {\n",
              "        vertical-align: middle;\n",
              "    }\n",
              "\n",
              "    .dataframe tbody tr th {\n",
              "        vertical-align: top;\n",
              "    }\n",
              "\n",
              "    .dataframe thead th {\n",
              "        text-align: right;\n",
              "    }\n",
              "</style>\n",
              "<table border=\"1\" class=\"dataframe\">\n",
              "  <thead>\n",
              "    <tr style=\"text-align: right;\">\n",
              "      <th></th>\n",
              "      <th>sentence</th>\n",
              "      <th>Word</th>\n",
              "      <th>POS</th>\n",
              "      <th>Tag</th>\n",
              "    </tr>\n",
              "  </thead>\n",
              "  <tbody>\n",
              "    <tr>\n",
              "      <th>0</th>\n",
              "      <td>Sentence: 1</td>\n",
              "      <td>Thousands</td>\n",
              "      <td>NNS</td>\n",
              "      <td>O</td>\n",
              "    </tr>\n",
              "    <tr>\n",
              "      <th>1</th>\n",
              "      <td>Sentence: 1</td>\n",
              "      <td>of</td>\n",
              "      <td>IN</td>\n",
              "      <td>O</td>\n",
              "    </tr>\n",
              "    <tr>\n",
              "      <th>2</th>\n",
              "      <td>Sentence: 1</td>\n",
              "      <td>demonstrators</td>\n",
              "      <td>NNS</td>\n",
              "      <td>O</td>\n",
              "    </tr>\n",
              "    <tr>\n",
              "      <th>3</th>\n",
              "      <td>Sentence: 1</td>\n",
              "      <td>have</td>\n",
              "      <td>VBP</td>\n",
              "      <td>O</td>\n",
              "    </tr>\n",
              "    <tr>\n",
              "      <th>4</th>\n",
              "      <td>Sentence: 1</td>\n",
              "      <td>marched</td>\n",
              "      <td>VBN</td>\n",
              "      <td>O</td>\n",
              "    </tr>\n",
              "  </tbody>\n",
              "</table>\n",
              "</div>\n",
              "    <div class=\"colab-df-buttons\">\n",
              "\n",
              "  <div class=\"colab-df-container\">\n",
              "    <button class=\"colab-df-convert\" onclick=\"convertToInteractive('df-d1b66029-ccf0-4dc8-876b-efc2728c3003')\"\n",
              "            title=\"Convert this dataframe to an interactive table.\"\n",
              "            style=\"display:none;\">\n",
              "\n",
              "  <svg xmlns=\"http://www.w3.org/2000/svg\" height=\"24px\" viewBox=\"0 -960 960 960\">\n",
              "    <path d=\"M120-120v-720h720v720H120Zm60-500h600v-160H180v160Zm220 220h160v-160H400v160Zm0 220h160v-160H400v160ZM180-400h160v-160H180v160Zm440 0h160v-160H620v160ZM180-180h160v-160H180v160Zm440 0h160v-160H620v160Z\"/>\n",
              "  </svg>\n",
              "    </button>\n",
              "\n",
              "  <style>\n",
              "    .colab-df-container {\n",
              "      display:flex;\n",
              "      gap: 12px;\n",
              "    }\n",
              "\n",
              "    .colab-df-convert {\n",
              "      background-color: #E8F0FE;\n",
              "      border: none;\n",
              "      border-radius: 50%;\n",
              "      cursor: pointer;\n",
              "      display: none;\n",
              "      fill: #1967D2;\n",
              "      height: 32px;\n",
              "      padding: 0 0 0 0;\n",
              "      width: 32px;\n",
              "    }\n",
              "\n",
              "    .colab-df-convert:hover {\n",
              "      background-color: #E2EBFA;\n",
              "      box-shadow: 0px 1px 2px rgba(60, 64, 67, 0.3), 0px 1px 3px 1px rgba(60, 64, 67, 0.15);\n",
              "      fill: #174EA6;\n",
              "    }\n",
              "\n",
              "    .colab-df-buttons div {\n",
              "      margin-bottom: 4px;\n",
              "    }\n",
              "\n",
              "    [theme=dark] .colab-df-convert {\n",
              "      background-color: #3B4455;\n",
              "      fill: #D2E3FC;\n",
              "    }\n",
              "\n",
              "    [theme=dark] .colab-df-convert:hover {\n",
              "      background-color: #434B5C;\n",
              "      box-shadow: 0px 1px 3px 1px rgba(0, 0, 0, 0.15);\n",
              "      filter: drop-shadow(0px 1px 2px rgba(0, 0, 0, 0.3));\n",
              "      fill: #FFFFFF;\n",
              "    }\n",
              "  </style>\n",
              "\n",
              "    <script>\n",
              "      const buttonEl =\n",
              "        document.querySelector('#df-d1b66029-ccf0-4dc8-876b-efc2728c3003 button.colab-df-convert');\n",
              "      buttonEl.style.display =\n",
              "        google.colab.kernel.accessAllowed ? 'block' : 'none';\n",
              "\n",
              "      async function convertToInteractive(key) {\n",
              "        const element = document.querySelector('#df-d1b66029-ccf0-4dc8-876b-efc2728c3003');\n",
              "        const dataTable =\n",
              "          await google.colab.kernel.invokeFunction('convertToInteractive',\n",
              "                                                    [key], {});\n",
              "        if (!dataTable) return;\n",
              "\n",
              "        const docLinkHtml = 'Like what you see? Visit the ' +\n",
              "          '<a target=\"_blank\" href=https://colab.research.google.com/notebooks/data_table.ipynb>data table notebook</a>'\n",
              "          + ' to learn more about interactive tables.';\n",
              "        element.innerHTML = '';\n",
              "        dataTable['output_type'] = 'display_data';\n",
              "        await google.colab.output.renderOutput(dataTable, element);\n",
              "        const docLink = document.createElement('div');\n",
              "        docLink.innerHTML = docLinkHtml;\n",
              "        element.appendChild(docLink);\n",
              "      }\n",
              "    </script>\n",
              "  </div>\n",
              "\n",
              "\n",
              "<div id=\"df-25fb63ef-d99d-4e67-a3cb-a3121db7904d\">\n",
              "  <button class=\"colab-df-quickchart\" onclick=\"quickchart('df-25fb63ef-d99d-4e67-a3cb-a3121db7904d')\"\n",
              "            title=\"Suggest charts\"\n",
              "            style=\"display:none;\">\n",
              "\n",
              "<svg xmlns=\"http://www.w3.org/2000/svg\" height=\"24px\"viewBox=\"0 0 24 24\"\n",
              "     width=\"24px\">\n",
              "    <g>\n",
              "        <path d=\"M19 3H5c-1.1 0-2 .9-2 2v14c0 1.1.9 2 2 2h14c1.1 0 2-.9 2-2V5c0-1.1-.9-2-2-2zM9 17H7v-7h2v7zm4 0h-2V7h2v10zm4 0h-2v-4h2v4z\"/>\n",
              "    </g>\n",
              "</svg>\n",
              "  </button>\n",
              "\n",
              "<style>\n",
              "  .colab-df-quickchart {\n",
              "      --bg-color: #E8F0FE;\n",
              "      --fill-color: #1967D2;\n",
              "      --hover-bg-color: #E2EBFA;\n",
              "      --hover-fill-color: #174EA6;\n",
              "      --disabled-fill-color: #AAA;\n",
              "      --disabled-bg-color: #DDD;\n",
              "  }\n",
              "\n",
              "  [theme=dark] .colab-df-quickchart {\n",
              "      --bg-color: #3B4455;\n",
              "      --fill-color: #D2E3FC;\n",
              "      --hover-bg-color: #434B5C;\n",
              "      --hover-fill-color: #FFFFFF;\n",
              "      --disabled-bg-color: #3B4455;\n",
              "      --disabled-fill-color: #666;\n",
              "  }\n",
              "\n",
              "  .colab-df-quickchart {\n",
              "    background-color: var(--bg-color);\n",
              "    border: none;\n",
              "    border-radius: 50%;\n",
              "    cursor: pointer;\n",
              "    display: none;\n",
              "    fill: var(--fill-color);\n",
              "    height: 32px;\n",
              "    padding: 0;\n",
              "    width: 32px;\n",
              "  }\n",
              "\n",
              "  .colab-df-quickchart:hover {\n",
              "    background-color: var(--hover-bg-color);\n",
              "    box-shadow: 0 1px 2px rgba(60, 64, 67, 0.3), 0 1px 3px 1px rgba(60, 64, 67, 0.15);\n",
              "    fill: var(--button-hover-fill-color);\n",
              "  }\n",
              "\n",
              "  .colab-df-quickchart-complete:disabled,\n",
              "  .colab-df-quickchart-complete:disabled:hover {\n",
              "    background-color: var(--disabled-bg-color);\n",
              "    fill: var(--disabled-fill-color);\n",
              "    box-shadow: none;\n",
              "  }\n",
              "\n",
              "  .colab-df-spinner {\n",
              "    border: 2px solid var(--fill-color);\n",
              "    border-color: transparent;\n",
              "    border-bottom-color: var(--fill-color);\n",
              "    animation:\n",
              "      spin 1s steps(1) infinite;\n",
              "  }\n",
              "\n",
              "  @keyframes spin {\n",
              "    0% {\n",
              "      border-color: transparent;\n",
              "      border-bottom-color: var(--fill-color);\n",
              "      border-left-color: var(--fill-color);\n",
              "    }\n",
              "    20% {\n",
              "      border-color: transparent;\n",
              "      border-left-color: var(--fill-color);\n",
              "      border-top-color: var(--fill-color);\n",
              "    }\n",
              "    30% {\n",
              "      border-color: transparent;\n",
              "      border-left-color: var(--fill-color);\n",
              "      border-top-color: var(--fill-color);\n",
              "      border-right-color: var(--fill-color);\n",
              "    }\n",
              "    40% {\n",
              "      border-color: transparent;\n",
              "      border-right-color: var(--fill-color);\n",
              "      border-top-color: var(--fill-color);\n",
              "    }\n",
              "    60% {\n",
              "      border-color: transparent;\n",
              "      border-right-color: var(--fill-color);\n",
              "    }\n",
              "    80% {\n",
              "      border-color: transparent;\n",
              "      border-right-color: var(--fill-color);\n",
              "      border-bottom-color: var(--fill-color);\n",
              "    }\n",
              "    90% {\n",
              "      border-color: transparent;\n",
              "      border-bottom-color: var(--fill-color);\n",
              "    }\n",
              "  }\n",
              "</style>\n",
              "\n",
              "  <script>\n",
              "    async function quickchart(key) {\n",
              "      const quickchartButtonEl =\n",
              "        document.querySelector('#' + key + ' button');\n",
              "      quickchartButtonEl.disabled = true;  // To prevent multiple clicks.\n",
              "      quickchartButtonEl.classList.add('colab-df-spinner');\n",
              "      try {\n",
              "        const charts = await google.colab.kernel.invokeFunction(\n",
              "            'suggestCharts', [key], {});\n",
              "      } catch (error) {\n",
              "        console.error('Error during call to suggestCharts:', error);\n",
              "      }\n",
              "      quickchartButtonEl.classList.remove('colab-df-spinner');\n",
              "      quickchartButtonEl.classList.add('colab-df-quickchart-complete');\n",
              "    }\n",
              "    (() => {\n",
              "      let quickchartButtonEl =\n",
              "        document.querySelector('#df-25fb63ef-d99d-4e67-a3cb-a3121db7904d button');\n",
              "      quickchartButtonEl.style.display =\n",
              "        google.colab.kernel.accessAllowed ? 'block' : 'none';\n",
              "    })();\n",
              "  </script>\n",
              "</div>\n",
              "\n",
              "    </div>\n",
              "  </div>\n"
            ],
            "text/plain": [
              "      sentence           Word  POS Tag\n",
              "0  Sentence: 1      Thousands  NNS   O\n",
              "1  Sentence: 1             of   IN   O\n",
              "2  Sentence: 1  demonstrators  NNS   O\n",
              "3  Sentence: 1           have  VBP   O\n",
              "4  Sentence: 1        marched  VBN   O"
            ]
          },
          "execution_count": 3,
          "metadata": {},
          "output_type": "execute_result"
        }
      ],
      "source": [
        "data = pd.read_csv(\"NER_dataset.csv\", encoding='latin1')\n",
        "data = data.fillna(method=\"ffill\")\n",
        "data = data.rename(columns={'Sentence #': 'sentence'})\n",
        "data.head(5)"
      ]
    },
    {
      "cell_type": "markdown",
      "metadata": {
        "id": "BjyUYE4V4JAa"
      },
      "source": [
        "Get the numbers of tags & words inside the whole data. We'll need this in the future."
      ]
    },
    {
      "cell_type": "code",
      "execution_count": 4,
      "metadata": {
        "colab": {
          "base_uri": "https://localhost:8080/"
        },
        "execution": {
          "iopub.execute_input": "2021-10-20T21:46:47.842792Z",
          "iopub.status.busy": "2021-10-20T21:46:47.842255Z",
          "iopub.status.idle": "2021-10-20T21:46:47.990971Z",
          "shell.execute_reply": "2021-10-20T21:46:47.990091Z",
          "shell.execute_reply.started": "2021-10-20T21:46:47.842733Z"
        },
        "id": "4UtD_Z0b4JAb",
        "outputId": "e26c4e3e-1480-4ca5-bfc5-a6cfc66dad2d",
        "trusted": true
      },
      "outputs": [
        {
          "data": {
            "text/plain": [
              "(42, 35177)"
            ]
          },
          "execution_count": 4,
          "metadata": {},
          "output_type": "execute_result"
        }
      ],
      "source": [
        "tags = list(set(data.POS.values)) #Read POS values\n",
        "words = list(set(data.Word.values))\n",
        "len(tags), len(words)"
      ]
    },
    {
      "cell_type": "markdown",
      "metadata": {
        "id": "eUuzMZKa4JAc"
      },
      "source": [
        "We cannot split data normally with `train_test_split` because doing that makes some parts of a sentence in the training set while some others in the testing set. Instead, we use `GroupShuffleSplit`."
      ]
    },
    {
      "cell_type": "code",
      "execution_count": 5,
      "metadata": {
        "colab": {
          "base_uri": "https://localhost:8080/",
          "height": 423
        },
        "execution": {
          "iopub.execute_input": "2021-10-20T21:46:47.995700Z",
          "iopub.status.busy": "2021-10-20T21:46:47.994256Z",
          "iopub.status.idle": "2021-10-20T21:46:49.891110Z",
          "shell.execute_reply": "2021-10-20T21:46:49.890296Z",
          "shell.execute_reply.started": "2021-10-20T21:46:47.995654Z"
        },
        "id": "znjJ28J04JAd",
        "outputId": "46bcc9a9-daae-4ec7-ce42-b29db48efd06",
        "trusted": true
      },
      "outputs": [
        {
          "data": {
            "application/vnd.google.colaboratory.intrinsic+json": {
              "type": "dataframe",
              "variable_name": "data_train"
            },
            "text/html": [
              "\n",
              "  <div id=\"df-b5102fec-b8c7-420a-81aa-7a874a1096b0\" class=\"colab-df-container\">\n",
              "    <div>\n",
              "<style scoped>\n",
              "    .dataframe tbody tr th:only-of-type {\n",
              "        vertical-align: middle;\n",
              "    }\n",
              "\n",
              "    .dataframe tbody tr th {\n",
              "        vertical-align: top;\n",
              "    }\n",
              "\n",
              "    .dataframe thead th {\n",
              "        text-align: right;\n",
              "    }\n",
              "</style>\n",
              "<table border=\"1\" class=\"dataframe\">\n",
              "  <thead>\n",
              "    <tr style=\"text-align: right;\">\n",
              "      <th></th>\n",
              "      <th>sentence</th>\n",
              "      <th>Word</th>\n",
              "      <th>POS</th>\n",
              "      <th>Tag</th>\n",
              "    </tr>\n",
              "  </thead>\n",
              "  <tbody>\n",
              "    <tr>\n",
              "      <th>24</th>\n",
              "      <td>Sentence: 2</td>\n",
              "      <td>Families</td>\n",
              "      <td>NNS</td>\n",
              "      <td>O</td>\n",
              "    </tr>\n",
              "    <tr>\n",
              "      <th>25</th>\n",
              "      <td>Sentence: 2</td>\n",
              "      <td>of</td>\n",
              "      <td>IN</td>\n",
              "      <td>O</td>\n",
              "    </tr>\n",
              "    <tr>\n",
              "      <th>26</th>\n",
              "      <td>Sentence: 2</td>\n",
              "      <td>soldiers</td>\n",
              "      <td>NNS</td>\n",
              "      <td>O</td>\n",
              "    </tr>\n",
              "    <tr>\n",
              "      <th>27</th>\n",
              "      <td>Sentence: 2</td>\n",
              "      <td>killed</td>\n",
              "      <td>VBN</td>\n",
              "      <td>O</td>\n",
              "    </tr>\n",
              "    <tr>\n",
              "      <th>28</th>\n",
              "      <td>Sentence: 2</td>\n",
              "      <td>in</td>\n",
              "      <td>IN</td>\n",
              "      <td>O</td>\n",
              "    </tr>\n",
              "    <tr>\n",
              "      <th>...</th>\n",
              "      <td>...</td>\n",
              "      <td>...</td>\n",
              "      <td>...</td>\n",
              "      <td>...</td>\n",
              "    </tr>\n",
              "    <tr>\n",
              "      <th>1048570</th>\n",
              "      <td>Sentence: 47959</td>\n",
              "      <td>they</td>\n",
              "      <td>PRP</td>\n",
              "      <td>O</td>\n",
              "    </tr>\n",
              "    <tr>\n",
              "      <th>1048571</th>\n",
              "      <td>Sentence: 47959</td>\n",
              "      <td>responded</td>\n",
              "      <td>VBD</td>\n",
              "      <td>O</td>\n",
              "    </tr>\n",
              "    <tr>\n",
              "      <th>1048572</th>\n",
              "      <td>Sentence: 47959</td>\n",
              "      <td>to</td>\n",
              "      <td>TO</td>\n",
              "      <td>O</td>\n",
              "    </tr>\n",
              "    <tr>\n",
              "      <th>1048573</th>\n",
              "      <td>Sentence: 47959</td>\n",
              "      <td>the</td>\n",
              "      <td>DT</td>\n",
              "      <td>O</td>\n",
              "    </tr>\n",
              "    <tr>\n",
              "      <th>1048574</th>\n",
              "      <td>Sentence: 47959</td>\n",
              "      <td>attack</td>\n",
              "      <td>NN</td>\n",
              "      <td>O</td>\n",
              "    </tr>\n",
              "  </tbody>\n",
              "</table>\n",
              "<p>702936 rows × 4 columns</p>\n",
              "</div>\n",
              "    <div class=\"colab-df-buttons\">\n",
              "\n",
              "  <div class=\"colab-df-container\">\n",
              "    <button class=\"colab-df-convert\" onclick=\"convertToInteractive('df-b5102fec-b8c7-420a-81aa-7a874a1096b0')\"\n",
              "            title=\"Convert this dataframe to an interactive table.\"\n",
              "            style=\"display:none;\">\n",
              "\n",
              "  <svg xmlns=\"http://www.w3.org/2000/svg\" height=\"24px\" viewBox=\"0 -960 960 960\">\n",
              "    <path d=\"M120-120v-720h720v720H120Zm60-500h600v-160H180v160Zm220 220h160v-160H400v160Zm0 220h160v-160H400v160ZM180-400h160v-160H180v160Zm440 0h160v-160H620v160ZM180-180h160v-160H180v160Zm440 0h160v-160H620v160Z\"/>\n",
              "  </svg>\n",
              "    </button>\n",
              "\n",
              "  <style>\n",
              "    .colab-df-container {\n",
              "      display:flex;\n",
              "      gap: 12px;\n",
              "    }\n",
              "\n",
              "    .colab-df-convert {\n",
              "      background-color: #E8F0FE;\n",
              "      border: none;\n",
              "      border-radius: 50%;\n",
              "      cursor: pointer;\n",
              "      display: none;\n",
              "      fill: #1967D2;\n",
              "      height: 32px;\n",
              "      padding: 0 0 0 0;\n",
              "      width: 32px;\n",
              "    }\n",
              "\n",
              "    .colab-df-convert:hover {\n",
              "      background-color: #E2EBFA;\n",
              "      box-shadow: 0px 1px 2px rgba(60, 64, 67, 0.3), 0px 1px 3px 1px rgba(60, 64, 67, 0.15);\n",
              "      fill: #174EA6;\n",
              "    }\n",
              "\n",
              "    .colab-df-buttons div {\n",
              "      margin-bottom: 4px;\n",
              "    }\n",
              "\n",
              "    [theme=dark] .colab-df-convert {\n",
              "      background-color: #3B4455;\n",
              "      fill: #D2E3FC;\n",
              "    }\n",
              "\n",
              "    [theme=dark] .colab-df-convert:hover {\n",
              "      background-color: #434B5C;\n",
              "      box-shadow: 0px 1px 3px 1px rgba(0, 0, 0, 0.15);\n",
              "      filter: drop-shadow(0px 1px 2px rgba(0, 0, 0, 0.3));\n",
              "      fill: #FFFFFF;\n",
              "    }\n",
              "  </style>\n",
              "\n",
              "    <script>\n",
              "      const buttonEl =\n",
              "        document.querySelector('#df-b5102fec-b8c7-420a-81aa-7a874a1096b0 button.colab-df-convert');\n",
              "      buttonEl.style.display =\n",
              "        google.colab.kernel.accessAllowed ? 'block' : 'none';\n",
              "\n",
              "      async function convertToInteractive(key) {\n",
              "        const element = document.querySelector('#df-b5102fec-b8c7-420a-81aa-7a874a1096b0');\n",
              "        const dataTable =\n",
              "          await google.colab.kernel.invokeFunction('convertToInteractive',\n",
              "                                                    [key], {});\n",
              "        if (!dataTable) return;\n",
              "\n",
              "        const docLinkHtml = 'Like what you see? Visit the ' +\n",
              "          '<a target=\"_blank\" href=https://colab.research.google.com/notebooks/data_table.ipynb>data table notebook</a>'\n",
              "          + ' to learn more about interactive tables.';\n",
              "        element.innerHTML = '';\n",
              "        dataTable['output_type'] = 'display_data';\n",
              "        await google.colab.output.renderOutput(dataTable, element);\n",
              "        const docLink = document.createElement('div');\n",
              "        docLink.innerHTML = docLinkHtml;\n",
              "        element.appendChild(docLink);\n",
              "      }\n",
              "    </script>\n",
              "  </div>\n",
              "\n",
              "\n",
              "<div id=\"df-14cb60ca-8500-44ca-9063-f6ca3a5e3a73\">\n",
              "  <button class=\"colab-df-quickchart\" onclick=\"quickchart('df-14cb60ca-8500-44ca-9063-f6ca3a5e3a73')\"\n",
              "            title=\"Suggest charts\"\n",
              "            style=\"display:none;\">\n",
              "\n",
              "<svg xmlns=\"http://www.w3.org/2000/svg\" height=\"24px\"viewBox=\"0 0 24 24\"\n",
              "     width=\"24px\">\n",
              "    <g>\n",
              "        <path d=\"M19 3H5c-1.1 0-2 .9-2 2v14c0 1.1.9 2 2 2h14c1.1 0 2-.9 2-2V5c0-1.1-.9-2-2-2zM9 17H7v-7h2v7zm4 0h-2V7h2v10zm4 0h-2v-4h2v4z\"/>\n",
              "    </g>\n",
              "</svg>\n",
              "  </button>\n",
              "\n",
              "<style>\n",
              "  .colab-df-quickchart {\n",
              "      --bg-color: #E8F0FE;\n",
              "      --fill-color: #1967D2;\n",
              "      --hover-bg-color: #E2EBFA;\n",
              "      --hover-fill-color: #174EA6;\n",
              "      --disabled-fill-color: #AAA;\n",
              "      --disabled-bg-color: #DDD;\n",
              "  }\n",
              "\n",
              "  [theme=dark] .colab-df-quickchart {\n",
              "      --bg-color: #3B4455;\n",
              "      --fill-color: #D2E3FC;\n",
              "      --hover-bg-color: #434B5C;\n",
              "      --hover-fill-color: #FFFFFF;\n",
              "      --disabled-bg-color: #3B4455;\n",
              "      --disabled-fill-color: #666;\n",
              "  }\n",
              "\n",
              "  .colab-df-quickchart {\n",
              "    background-color: var(--bg-color);\n",
              "    border: none;\n",
              "    border-radius: 50%;\n",
              "    cursor: pointer;\n",
              "    display: none;\n",
              "    fill: var(--fill-color);\n",
              "    height: 32px;\n",
              "    padding: 0;\n",
              "    width: 32px;\n",
              "  }\n",
              "\n",
              "  .colab-df-quickchart:hover {\n",
              "    background-color: var(--hover-bg-color);\n",
              "    box-shadow: 0 1px 2px rgba(60, 64, 67, 0.3), 0 1px 3px 1px rgba(60, 64, 67, 0.15);\n",
              "    fill: var(--button-hover-fill-color);\n",
              "  }\n",
              "\n",
              "  .colab-df-quickchart-complete:disabled,\n",
              "  .colab-df-quickchart-complete:disabled:hover {\n",
              "    background-color: var(--disabled-bg-color);\n",
              "    fill: var(--disabled-fill-color);\n",
              "    box-shadow: none;\n",
              "  }\n",
              "\n",
              "  .colab-df-spinner {\n",
              "    border: 2px solid var(--fill-color);\n",
              "    border-color: transparent;\n",
              "    border-bottom-color: var(--fill-color);\n",
              "    animation:\n",
              "      spin 1s steps(1) infinite;\n",
              "  }\n",
              "\n",
              "  @keyframes spin {\n",
              "    0% {\n",
              "      border-color: transparent;\n",
              "      border-bottom-color: var(--fill-color);\n",
              "      border-left-color: var(--fill-color);\n",
              "    }\n",
              "    20% {\n",
              "      border-color: transparent;\n",
              "      border-left-color: var(--fill-color);\n",
              "      border-top-color: var(--fill-color);\n",
              "    }\n",
              "    30% {\n",
              "      border-color: transparent;\n",
              "      border-left-color: var(--fill-color);\n",
              "      border-top-color: var(--fill-color);\n",
              "      border-right-color: var(--fill-color);\n",
              "    }\n",
              "    40% {\n",
              "      border-color: transparent;\n",
              "      border-right-color: var(--fill-color);\n",
              "      border-top-color: var(--fill-color);\n",
              "    }\n",
              "    60% {\n",
              "      border-color: transparent;\n",
              "      border-right-color: var(--fill-color);\n",
              "    }\n",
              "    80% {\n",
              "      border-color: transparent;\n",
              "      border-right-color: var(--fill-color);\n",
              "      border-bottom-color: var(--fill-color);\n",
              "    }\n",
              "    90% {\n",
              "      border-color: transparent;\n",
              "      border-bottom-color: var(--fill-color);\n",
              "    }\n",
              "  }\n",
              "</style>\n",
              "\n",
              "  <script>\n",
              "    async function quickchart(key) {\n",
              "      const quickchartButtonEl =\n",
              "        document.querySelector('#' + key + ' button');\n",
              "      quickchartButtonEl.disabled = true;  // To prevent multiple clicks.\n",
              "      quickchartButtonEl.classList.add('colab-df-spinner');\n",
              "      try {\n",
              "        const charts = await google.colab.kernel.invokeFunction(\n",
              "            'suggestCharts', [key], {});\n",
              "      } catch (error) {\n",
              "        console.error('Error during call to suggestCharts:', error);\n",
              "      }\n",
              "      quickchartButtonEl.classList.remove('colab-df-spinner');\n",
              "      quickchartButtonEl.classList.add('colab-df-quickchart-complete');\n",
              "    }\n",
              "    (() => {\n",
              "      let quickchartButtonEl =\n",
              "        document.querySelector('#df-14cb60ca-8500-44ca-9063-f6ca3a5e3a73 button');\n",
              "      quickchartButtonEl.style.display =\n",
              "        google.colab.kernel.accessAllowed ? 'block' : 'none';\n",
              "    })();\n",
              "  </script>\n",
              "</div>\n",
              "\n",
              "  <div id=\"id_949d5734-6e4a-4334-b291-16d10f2e10c6\">\n",
              "    <style>\n",
              "      .colab-df-generate {\n",
              "        background-color: #E8F0FE;\n",
              "        border: none;\n",
              "        border-radius: 50%;\n",
              "        cursor: pointer;\n",
              "        display: none;\n",
              "        fill: #1967D2;\n",
              "        height: 32px;\n",
              "        padding: 0 0 0 0;\n",
              "        width: 32px;\n",
              "      }\n",
              "\n",
              "      .colab-df-generate:hover {\n",
              "        background-color: #E2EBFA;\n",
              "        box-shadow: 0px 1px 2px rgba(60, 64, 67, 0.3), 0px 1px 3px 1px rgba(60, 64, 67, 0.15);\n",
              "        fill: #174EA6;\n",
              "      }\n",
              "\n",
              "      [theme=dark] .colab-df-generate {\n",
              "        background-color: #3B4455;\n",
              "        fill: #D2E3FC;\n",
              "      }\n",
              "\n",
              "      [theme=dark] .colab-df-generate:hover {\n",
              "        background-color: #434B5C;\n",
              "        box-shadow: 0px 1px 3px 1px rgba(0, 0, 0, 0.15);\n",
              "        filter: drop-shadow(0px 1px 2px rgba(0, 0, 0, 0.3));\n",
              "        fill: #FFFFFF;\n",
              "      }\n",
              "    </style>\n",
              "    <button class=\"colab-df-generate\" onclick=\"generateWithVariable('data_train')\"\n",
              "            title=\"Generate code using this dataframe.\"\n",
              "            style=\"display:none;\">\n",
              "\n",
              "  <svg xmlns=\"http://www.w3.org/2000/svg\" height=\"24px\"viewBox=\"0 0 24 24\"\n",
              "       width=\"24px\">\n",
              "    <path d=\"M7,19H8.4L18.45,9,17,7.55,7,17.6ZM5,21V16.75L18.45,3.32a2,2,0,0,1,2.83,0l1.4,1.43a1.91,1.91,0,0,1,.58,1.4,1.91,1.91,0,0,1-.58,1.4L9.25,21ZM18.45,9,17,7.55Zm-12,3A5.31,5.31,0,0,0,4.9,8.1,5.31,5.31,0,0,0,1,6.5,5.31,5.31,0,0,0,4.9,4.9,5.31,5.31,0,0,0,6.5,1,5.31,5.31,0,0,0,8.1,4.9,5.31,5.31,0,0,0,12,6.5,5.46,5.46,0,0,0,6.5,12Z\"/>\n",
              "  </svg>\n",
              "    </button>\n",
              "    <script>\n",
              "      (() => {\n",
              "      const buttonEl =\n",
              "        document.querySelector('#id_949d5734-6e4a-4334-b291-16d10f2e10c6 button.colab-df-generate');\n",
              "      buttonEl.style.display =\n",
              "        google.colab.kernel.accessAllowed ? 'block' : 'none';\n",
              "\n",
              "      buttonEl.onclick = () => {\n",
              "        google.colab.notebook.generateWithVariable('data_train');\n",
              "      }\n",
              "      })();\n",
              "    </script>\n",
              "  </div>\n",
              "\n",
              "    </div>\n",
              "  </div>\n"
            ],
            "text/plain": [
              "                sentence       Word  POS Tag\n",
              "24           Sentence: 2   Families  NNS   O\n",
              "25           Sentence: 2         of   IN   O\n",
              "26           Sentence: 2   soldiers  NNS   O\n",
              "27           Sentence: 2     killed  VBN   O\n",
              "28           Sentence: 2         in   IN   O\n",
              "...                  ...        ...  ...  ..\n",
              "1048570  Sentence: 47959       they  PRP   O\n",
              "1048571  Sentence: 47959  responded  VBD   O\n",
              "1048572  Sentence: 47959         to   TO   O\n",
              "1048573  Sentence: 47959        the   DT   O\n",
              "1048574  Sentence: 47959     attack   NN   O\n",
              "\n",
              "[702936 rows x 4 columns]"
            ]
          },
          "execution_count": 5,
          "metadata": {},
          "output_type": "execute_result"
        }
      ],
      "source": [
        "y = data.POS\n",
        "X = data.drop('POS', axis=1)\n",
        "\n",
        "gs = GroupShuffleSplit(n_splits=2, test_size=.33, random_state=42)\n",
        "train_ix, test_ix = next(gs.split(X, y, groups=data['sentence']))\n",
        "\n",
        "data_train = data.loc[train_ix]\n",
        "data_test = data.loc[test_ix]\n",
        "\n",
        "data_train"
      ]
    },
    {
      "cell_type": "markdown",
      "metadata": {
        "execution": {
          "iopub.execute_input": "2021-10-20T20:11:20.970394Z",
          "iopub.status.busy": "2021-10-20T20:11:20.970165Z",
          "iopub.status.idle": "2021-10-20T20:11:20.975803Z",
          "shell.execute_reply": "2021-10-20T20:11:20.974565Z",
          "shell.execute_reply.started": "2021-10-20T20:11:20.970358Z"
        },
        "id": "UQjDGPUI4JAd"
      },
      "source": [
        "After checking the data after splitted, it seems to be fine.\n",
        "Check the numbers of tags & words in the training set."
      ]
    },
    {
      "cell_type": "code",
      "execution_count": 6,
      "metadata": {
        "colab": {
          "base_uri": "https://localhost:8080/"
        },
        "execution": {
          "iopub.execute_input": "2021-10-20T21:46:49.893229Z",
          "iopub.status.busy": "2021-10-20T21:46:49.892689Z",
          "iopub.status.idle": "2021-10-20T21:46:50.015418Z",
          "shell.execute_reply": "2021-10-20T21:46:50.014596Z",
          "shell.execute_reply.started": "2021-10-20T21:46:49.893188Z"
        },
        "id": "fRD4-lit4JAd",
        "outputId": "7e471861-82d5-493e-ab83-ad7512340913",
        "trusted": true
      },
      "outputs": [
        {
          "data": {
            "text/plain": [
              "(42, 29586)"
            ]
          },
          "execution_count": 6,
          "metadata": {},
          "output_type": "execute_result"
        }
      ],
      "source": [
        "tags = list(set(data_train.POS.values)) #Read POS values\n",
        "words = list(set(data_train.Word.values))\n",
        "len(tags), len(words)"
      ]
    },
    {
      "cell_type": "markdown",
      "metadata": {
        "id": "sxLKlnFd4JAe"
      },
      "source": [
        "The number of tags is enough but the number of words is not enough (~29k vs ~35k).\n",
        "Because of that we need to randomly add some UNKNOWN words into the training dataset then we recalculate the word list and create map from them to number."
      ]
    },
    {
      "cell_type": "code",
      "execution_count": 7,
      "metadata": {
        "colab": {
          "base_uri": "https://localhost:8080/"
        },
        "execution": {
          "iopub.execute_input": "2021-10-20T21:46:50.016857Z",
          "iopub.status.busy": "2021-10-20T21:46:50.016583Z",
          "iopub.status.idle": "2021-10-20T21:46:50.410317Z",
          "shell.execute_reply": "2021-10-20T21:46:50.409744Z",
          "shell.execute_reply.started": "2021-10-20T21:46:50.016820Z"
        },
        "id": "a0uqru2j4JAe",
        "outputId": "ca252449-6d6a-4fa3-b466-9fef458f0eea",
        "trusted": true
      },
      "outputs": [
        {
          "data": {
            "text/plain": [
              "(42, 27553)"
            ]
          },
          "execution_count": 7,
          "metadata": {},
          "output_type": "execute_result"
        }
      ],
      "source": [
        "dfupdate = data_train.sample(frac=.15, replace=False, random_state=42)\n",
        "dfupdate.Word = 'UNKNOWN'\n",
        "data_train.update(dfupdate)\n",
        "words = list(set(data_train.Word.values))\n",
        "# Convert words and tags into numbers\n",
        "word2id = {w: i for i, w in enumerate(words)}\n",
        "tag2id = {t: i for i, t in enumerate(tags)}\n",
        "id2tag = {i: t for i, t in enumerate(tags)}\n",
        "len(tags), len(words)"
      ]
    },
    {
      "cell_type": "markdown",
      "metadata": {
        "id": "k11ZmiB44JAe"
      },
      "source": [
        "Hidden Markov Models can be trained by using the Baum-Welch algorithm.\n",
        "However input of the training is just dataset (Words).\n",
        "We cannot map back the states to the POS tag.\n",
        "\n",
        "That's why we have to calculate the model parameters for `hmmlearn.hmm.MultinomialHMM` manually by calculating\n",
        "- `startprob_`\n",
        "- `transmat_`\n",
        "- `emissionprob_`"
      ]
    },
    {
      "cell_type": "code",
      "execution_count": 8,
      "metadata": {
        "execution": {
          "iopub.execute_input": "2021-10-20T21:46:50.412372Z",
          "iopub.status.busy": "2021-10-20T21:46:50.411567Z",
          "iopub.status.idle": "2021-10-20T21:46:52.901682Z",
          "shell.execute_reply": "2021-10-20T21:46:52.900710Z",
          "shell.execute_reply.started": "2021-10-20T21:46:50.412335Z"
        },
        "id": "UiKDBoCK4JAf",
        "trusted": true
      },
      "outputs": [],
      "source": [
        "count_tags = dict(data_train.POS.value_counts())\n",
        "count_tags_to_words = data_train.groupby(['POS']).apply(lambda grp: grp.groupby('Word')['POS'].count().to_dict()).to_dict()\n",
        "count_init_tags = dict(data_train.groupby('sentence').first().POS.value_counts())\n",
        "\n",
        "# TODO use panda solution\n",
        "count_tags_to_next_tags = np.zeros((len(tags), len(tags)), dtype=int)\n",
        "sentences = list(data_train.sentence)\n",
        "pos = list(data_train.POS)\n",
        "for i in range(len(sentences)) :\n",
        "    if (i > 0) and (sentences[i] == sentences[i - 1]):\n",
        "        prevtagid = tag2id[pos[i - 1]]\n",
        "        nexttagid = tag2id[pos[i]]\n",
        "        count_tags_to_next_tags[prevtagid][nexttagid] += 1"
      ]
    },
    {
      "cell_type": "code",
      "execution_count": 9,
      "metadata": {
        "execution": {
          "iopub.execute_input": "2021-10-20T21:46:52.903251Z",
          "iopub.status.busy": "2021-10-20T21:46:52.902940Z",
          "iopub.status.idle": "2021-10-20T21:46:54.236735Z",
          "shell.execute_reply": "2021-10-20T21:46:54.235733Z",
          "shell.execute_reply.started": "2021-10-20T21:46:52.903216Z"
        },
        "id": "JzkExaCt4JAf",
        "trusted": true
      },
      "outputs": [],
      "source": [
        "mystartprob = np.zeros((len(tags),))\n",
        "mytransmat = np.zeros((len(tags), len(tags)))\n",
        "myemissionprob = np.zeros((len(tags), len(words)))\n",
        "num_sentences = sum(count_init_tags.values())\n",
        "sum_tags_to_next_tags = np.sum(count_tags_to_next_tags, axis=1)\n",
        "for tag, tagid in tag2id.items():\n",
        "    floatCountTag = float(count_tags.get(tag, 0))\n",
        "    mystartprob[tagid] = count_init_tags.get(tag, 0) / num_sentences\n",
        "    for word, wordid in word2id.items():\n",
        "        myemissionprob[tagid][wordid]= count_tags_to_words.get(tag, {}).get(word, 0) / floatCountTag\n",
        "    for tag2, tagid2 in tag2id.items():\n",
        "        mytransmat[tagid][tagid2]= count_tags_to_next_tags[tagid][tagid2] / sum_tags_to_next_tags[tagid]"
      ]
    },
    {
      "cell_type": "markdown",
      "metadata": {
        "id": "hMaw7Usl4JAf"
      },
      "source": [
        "Initialize a HMM"
      ]
    },
    {
      "cell_type": "code",
      "execution_count": 10,
      "metadata": {
        "execution": {
          "iopub.execute_input": "2021-10-20T21:46:54.238163Z",
          "iopub.status.busy": "2021-10-20T21:46:54.237926Z",
          "iopub.status.idle": "2021-10-20T21:46:54.243255Z",
          "shell.execute_reply": "2021-10-20T21:46:54.242324Z",
          "shell.execute_reply.started": "2021-10-20T21:46:54.238133Z"
        },
        "id": "4TvE8eEI4JAf",
        "trusted": true
      },
      "outputs": [],
      "source": [
        "model = hmm.MultinomialHMM(n_components=len(tags), algorithm='viterbi', random_state=42)\n",
        "# model.n_trials = 100 # Set the number of samples to use for training\n",
        "model.startprob_ = mystartprob\n",
        "model.transmat_ = mytransmat\n",
        "model.emissionprob_ = myemissionprob"
      ]
    },
    {
      "cell_type": "markdown",
      "metadata": {
        "id": "KjUdfyz94JAg"
      },
      "source": [
        "As some words may never appear in the training set, we need to transform them into `UNKNOWN` first.\n",
        "Then we split `data_test` into `samples` & `lengths` and send them to HMM."
      ]
    },
    {
      "cell_type": "code",
      "execution_count": 11,
      "metadata": {
        "execution": {
          "iopub.execute_input": "2021-10-20T21:46:54.244806Z",
          "iopub.status.busy": "2021-10-20T21:46:54.244442Z",
          "iopub.status.idle": "2021-10-20T21:46:55.154971Z",
          "shell.execute_reply": "2021-10-20T21:46:55.153984Z",
          "shell.execute_reply.started": "2021-10-20T21:46:54.244773Z"
        },
        "id": "N6Kwh_ff4JAg",
        "trusted": true
      },
      "outputs": [],
      "source": [
        "data_test.loc[~data_test['Word'].isin(words), 'Word'] = 'UNKNOWN'\n",
        "word_test = list(data_test.Word)\n",
        "samples = []\n",
        "for i, val in enumerate(word_test):\n",
        "    samples.append([word2id[val]])\n",
        "\n",
        "# TODO use panda solution\n",
        "lengths = []\n",
        "count = 0\n",
        "sentences = list(data_test.sentence)\n",
        "for i in range(len(sentences)) :\n",
        "    if (i > 0) and (sentences[i] == sentences[i - 1]):\n",
        "        count += 1\n",
        "    elif i > 0:\n",
        "        lengths.append(count)\n",
        "        count = 1\n",
        "    else:\n",
        "        count = 1"
      ]
    },
    {
      "cell_type": "code",
      "execution_count": 12,
      "metadata": {
        "colab": {
          "base_uri": "https://localhost:8080/"
        },
        "execution": {
          "iopub.execute_input": "2021-10-20T21:46:55.156826Z",
          "iopub.status.busy": "2021-10-20T21:46:55.156418Z",
          "iopub.status.idle": "2021-10-20T21:49:56.298549Z",
          "shell.execute_reply": "2021-10-20T21:49:56.297746Z",
          "shell.execute_reply.started": "2021-10-20T21:46:55.156781Z"
        },
        "id": "_tSpTKA74JAg",
        "outputId": "76c2c959-4747-4c1b-bd3f-37425f4ad7a2",
        "trusted": true
      },
      "outputs": [
        {
          "data": {
            "text/plain": [
              "array([22,  0, 22, ..., 12, 36,  3], dtype=int32)"
            ]
          },
          "execution_count": 12,
          "metadata": {},
          "output_type": "execute_result"
        }
      ],
      "source": [
        "# This code is very slow\n",
        "pos_predict = model.predict(samples, lengths)\n",
        "pos_predict"
      ]
    },
    {
      "cell_type": "code",
      "execution_count": 13,
      "metadata": {
        "colab": {
          "base_uri": "https://localhost:8080/"
        },
        "execution": {
          "iopub.execute_input": "2021-10-20T21:49:56.299781Z",
          "iopub.status.busy": "2021-10-20T21:49:56.299571Z",
          "iopub.status.idle": "2021-10-20T21:49:56.482558Z",
          "shell.execute_reply": "2021-10-20T21:49:56.481010Z",
          "shell.execute_reply.started": "2021-10-20T21:49:56.299756Z"
        },
        "id": "kBWgCBFz4JAh",
        "outputId": "b4ef6fd0-d435-4201-eaff-d02f69c566ef",
        "trusted": true
      },
      "outputs": [
        {
          "data": {
            "text/plain": [
              "(345615, 345639, 345639, 345639)"
            ]
          },
          "execution_count": 13,
          "metadata": {},
          "output_type": "execute_result"
        }
      ],
      "source": [
        "tags_test = list(data_test.POS)\n",
        "pos_test = np.zeros((len(tags_test), ), dtype=int)\n",
        "for i, val in enumerate(tags_test):\n",
        "    pos_test[i] = tag2id[val]\n",
        "len(pos_predict), len(pos_test), len(samples), len(word_test)"
      ]
    },
    {
      "cell_type": "markdown",
      "metadata": {
        "id": "buhAnYNv4JAh"
      },
      "source": [
        "Somehow the output of HMM is in wrong size. Only use the shorter length to check the result."
      ]
    },
    {
      "cell_type": "code",
      "execution_count": 14,
      "metadata": {
        "colab": {
          "base_uri": "https://localhost:8080/"
        },
        "execution": {
          "iopub.execute_input": "2021-10-20T21:49:56.484981Z",
          "iopub.status.busy": "2021-10-20T21:49:56.484763Z",
          "iopub.status.idle": "2021-10-20T21:49:57.078323Z",
          "shell.execute_reply": "2021-10-20T21:49:57.077241Z",
          "shell.execute_reply.started": "2021-10-20T21:49:56.484954Z"
        },
        "id": "TPFWzC8y4JAh",
        "outputId": "dc4ed283-c3bc-4603-eede-516ae52ec300",
        "trusted": true
      },
      "outputs": [
        {
          "name": "stdout",
          "output_type": "stream",
          "text": [
            "The accuracy is 0.9657653747667202\n",
            "The precision is 0.9659413297894517\n",
            "The recall is 0.9657653747667202\n",
            "The F1-Score is 0.9657330500732366\n"
          ]
        }
      ],
      "source": [
        "def reportTest(y_pred, y_test):\n",
        "    print(\"The accuracy is {}\".format(accuracy_score(y_test, y_pred)))\n",
        "    print(\"The precision is {}\".format(precision_score(y_test, y_pred, average='weighted')))\n",
        "    print(\"The recall is {}\".format(recall_score(y_test, y_pred, average='weighted')))\n",
        "    print(\"The F1-Score is {}\".format(f1_score(y_test, y_pred, average='weighted')))\n",
        "\n",
        "min_length = min(len(pos_predict), len(pos_test))\n",
        "\n",
        "reportTest(pos_predict[:min_length], pos_test[:min_length])"
      ]
    }
  ],
  "metadata": {
    "colab": {
      "include_colab_link": true,
      "provenance": []
    },
    "kernelspec": {
      "display_name": "Python 3",
      "language": "python",
      "name": "python3"
    },
    "language_info": {
      "codemirror_mode": {
        "name": "ipython",
        "version": 3
      },
      "file_extension": ".py",
      "mimetype": "text/x-python",
      "name": "python",
      "nbconvert_exporter": "python",
      "pygments_lexer": "ipython3",
      "version": "3.7.10"
    }
  },
  "nbformat": 4,
  "nbformat_minor": 0
}
